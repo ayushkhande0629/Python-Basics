{
  "nbformat": 4,
  "nbformat_minor": 0,
  "metadata": {
    "colab": {
      "provenance": []
    },
    "kernelspec": {
      "name": "python3",
      "display_name": "Python 3"
    },
    "language_info": {
      "name": "python"
    }
  },
  "cells": [
    {
      "cell_type": "markdown",
      "source": [
        "# Python Basic"
      ],
      "metadata": {
        "id": "QyYDp9yd_Q7P"
      }
    },
    {
      "cell_type": "markdown",
      "source": [
        "1. What is Python, and why is it popular\n",
        "   - Python is a high-level, versatile programming language known for its simple, English-like syntax, making it easy for beginners to learn. It's popular because it can be used for a wide range of applications, from web development and automation to data science and artificial intelligence. Its extensive libraries, like NumPy and Django, along with a massive and supportive community, allow developers to build complex applications quickly and efficiently.\n",
        "\n",
        "\n",
        "---\n",
        "\n",
        "2. What is an interpreter in Python ?\n",
        "   - A Python interpreter is the program that reads and executes your Python code. It processes your script line by line, first translating each line into an intermediate, platform-independent format called bytecode. This bytecode is then executed by the Python Virtual Machine. This line-by-line execution makes debugging easier, as the program stops exactly where an error occurs, and allows for interactive coding directly within the interpreter.\n",
        "\n",
        "---\n",
        "\n",
        "3. What are pre-defined keywords in Python?\n",
        "\n",
        "   - Pre-defined keywords in Python are reserved words that have special meanings and functionalities built into the language. These words define the rules and structure of Python syntax, such as if, else, for, while, def, and class. They cannot be used as names for variables, functions, or any other identifiers. The interpreter recognizes these keywords to understand the type of operation or structure you are defining in your code.\n",
        "\n",
        "---\n",
        "\n",
        "\n",
        "\n",
        "4. Can keywords be used as variable names?\n",
        "\n",
        "   - No, keywords cannot be used as variable names. These words are reserved by the Python language to define its syntax and structure. If you attempt to assign a value to a keyword, the interpreter won't see it as a variable assignment but as a grammatical error in the language's structure. For example, trying to run for = 'hello' will immediately result in a SyntaxError because the interpreter expects the for keyword to start a loop, not to be a variable.\n",
        "\n",
        "\n",
        "---\n",
        "\n",
        "\n",
        "5.  What is mutability in Python?\n",
        "   - Mutability refers to whether an object's internal state or value can be changed after it has been created.\n",
        "   An object is mutable if its contents can be modified in place. Examples include lists, dictionaries, and sets. You can add, remove, or change items within a list without creating an entirely new list.\n",
        "   An object is immutable if it cannot be changed after creation. Examples include integers, strings, and tuples. Any operation that seems to modify an immutable object actually creates a new object in memory.\n",
        "\n",
        "---\n",
        "\n",
        "\n",
        "\n",
        "6.  Why are lists mutable, but tuples are immutable?\n",
        "\n",
        "   - This is a fundamental design choice in Python to provide tools for different use cases. Lists are designed to be dynamic, flexible collections of items that are expected to change, making them ideal for sequences where you need to add, remove, or alter elements. Tuples, on the other hand, are designed to be fixed, unchangeable collections. Their immutability ensures data integrity and makes them hashable, which means they can be reliably used as keys in a dictionary or as elements in a set.\n",
        "\n",
        "---\n",
        "\n",
        "\n",
        "\n",
        "7.  What is the difference between “==” and “is” operators in Python?\n",
        "\n",
        "   - The primary difference lies in what they compare.\n",
        "     The == operator compares the value of two objects. It checks if the contents of the objects are equal. For example, [1, 2] == [1, 2] returns True because their contents are identical.\n",
        "     The is operator compares the identity of two objects. It checks if two variables point to the exact same object in memory. For example, if a = [1, 2] and b = [1, 2], a is b returns False because a and b are two separate list objects, even though their values are the same.\n",
        "\n",
        "\n",
        "---\n",
        "\n",
        "\n",
        "8.  What are logical operators in Python?\n",
        "\n",
        "   - Logical operators are keywords used to combine or modify boolean expressions, typically in conditional statements to control program flow. Python has three logical operators:\n",
        "   and: Returns True only if both the left and right operands are true.\n",
        "   or: Returns True if at least one of the operands is true.\n",
        "   not: Inverts the boolean value, changing True to False and False to True.\n",
        "   These are essential for creating complex conditions in if statements and while loops.\n",
        "\n",
        "---\n",
        "\n",
        "\n",
        "\n",
        "9.  What is type casting in Python?\n",
        "\n",
        "   - Type casting, or type conversion, is the process of converting a variable from one data type to another. This is done explicitly by the programmer using built-in functions. For example, you can convert a string to an integer using int(), an integer to a string using str(), or a float to an integer using int(). This is crucial when you need to perform operations between different data types, such as converting user input (which is always a string) into a number for calculations.\n",
        "\n",
        "---\n",
        "\n",
        "\n",
        "\n",
        "10.  What is the difference between implicit and explicit type casting?\n",
        "\n",
        "   - Implicit Type Casting is performed automatically by the Python interpreter without the programmer's intervention. This usually happens to prevent data loss when mixing numeric types. For example, when you add an integer and a float (5 + 2.0), Python implicitly converts the integer to a float to perform the operation, resulting in 7.0.\n",
        "   Explicit Type Casting is done manually by the programmer using functions like int(), float(), or str(). You are explicitly telling the interpreter to convert a value, like int(\"123\") to turn a string into a number.\n",
        "\n",
        "\n",
        "---\n",
        "\n",
        "\n",
        "11. What is the purpose of conditional statements in Python?\n",
        "\n",
        "   - The main purpose of conditional statements (if, elif, else) is to control the flow of execution in a program. They allow your code to make decisions and perform different actions based on whether a specific condition is true or false. This enables programs to be dynamic and responsive to different inputs, states, or situations. Without conditional statements, a script would run the exact same way every single time, limiting its usefulness for complex tasks.\n",
        "\n",
        "---\n",
        "\n",
        "\n",
        "\n",
        "12. How does the elif statement work?\n",
        "\n",
        "   - The elif (short for \"else if\") statement is used within an if-else block to check for multiple additional conditions. It only gets evaluated if the initial if statement's condition is False. If the elif condition is True, its code block is executed, and the program skips checking any subsequent elif or else blocks in the chain. It provides a clean and readable way to handle a series of mutually exclusive conditions without nesting multiple if statements.\n",
        "\n",
        "---\n",
        "\n",
        "\n",
        "\n",
        "13. What is the difference between for and while loops?\n",
        "\n",
        "    - The main difference is how they determine the end of their execution.\n",
        "   A for loop is used for definite iteration—it runs a specific number of times over an iterable object like a list, string, or range. You use it when you know in advance how many times you need to loop.\n",
        "   A while loop is used for indefinite iteration—it runs as long as a certain condition remains True. You use it when you don't know how many iterations are needed, and the loop continues until a specific condition is met.\n",
        "\n",
        "---\n",
        "\n",
        "\n",
        "\n",
        "14. Describe a scenario where a while loop is more suitable than a for loop.\n",
        "\n",
        "   - A while loop is more suitable in scenarios where the number of iterations is unknown and depends on a condition that changes during execution. A perfect example is validating user input. Imagine prompting a user for their age until they enter a valid positive number. You don't know if they'll get it right on the first try or the tenth. A loop like while not valid_age: is ideal because it will continue to ask indefinitely until the condition is met, something a for loop can't easily handle.\n",
        "\n",
        "---\n",
        "\n",
        "\n",
        "\n",
        "\n",
        "\n"
      ],
      "metadata": {
        "id": "iXlC0l3M_qUc"
      }
    },
    {
      "cell_type": "code",
      "execution_count": 3,
      "metadata": {
        "colab": {
          "base_uri": "https://localhost:8080/"
        },
        "id": "2KfnDA_V_Jj6",
        "outputId": "49ae30b8-0720-40f9-f31b-b27f40180648"
      },
      "outputs": [
        {
          "output_type": "stream",
          "name": "stdout",
          "text": [
            "Hello, World!\n"
          ]
        }
      ],
      "source": [
        "# 1] Write a Python program to print \"Hello, World!\"\n",
        "print(\"Hello, World!\")"
      ]
    },
    {
      "cell_type": "code",
      "source": [
        "# 2] Write a Python program that displays your name and age.\n",
        "name = \"Ayush\"\n",
        "age = 22\n",
        "print(name)\n",
        "print(age)"
      ],
      "metadata": {
        "colab": {
          "base_uri": "https://localhost:8080/"
        },
        "id": "_31XzwZuFCd8",
        "outputId": "830875ce-a668-4452-da44-741258f35ba0"
      },
      "execution_count": 7,
      "outputs": [
        {
          "output_type": "stream",
          "name": "stdout",
          "text": [
            "Ayush\n",
            "22\n"
          ]
        }
      ]
    },
    {
      "cell_type": "code",
      "source": [
        "# 3] Write code to print all the pre-defined keywords in Python using the keyword library.\n",
        "import keyword\n",
        "all_keywords = keyword.kwlist\n",
        "print(all_keywords)\n"
      ],
      "metadata": {
        "colab": {
          "base_uri": "https://localhost:8080/"
        },
        "id": "pNDwIr6-FO1u",
        "outputId": "432f633e-a6c8-4474-abb5-fa13c5ebc3f3"
      },
      "execution_count": 12,
      "outputs": [
        {
          "output_type": "stream",
          "name": "stdout",
          "text": [
            "['False', 'None', 'True', 'and', 'as', 'assert', 'async', 'await', 'break', 'class', 'continue', 'def', 'del', 'elif', 'else', 'except', 'finally', 'for', 'from', 'global', 'if', 'import', 'in', 'is', 'lambda', 'nonlocal', 'not', 'or', 'pass', 'raise', 'return', 'try', 'while', 'with', 'yield']\n"
          ]
        }
      ]
    },
    {
      "cell_type": "code",
      "source": [
        "# 4] Write a program that checks if a given word is a Python keyword.\n",
        "import keyword\n",
        "word = input(\"Enter a word: \")\n",
        "if keyword.iskeyword(word):\n",
        "    print(f\"'{word}' is a Python keyword.\")\n",
        "else:\n",
        "    print(f\"'{word}' is NOT a Python keyword.\")"
      ],
      "metadata": {
        "colab": {
          "base_uri": "https://localhost:8080/"
        },
        "id": "aTVSHju3GNPA",
        "outputId": "bb762f9c-5538-4631-dc4c-9922fac60cca"
      },
      "execution_count": 14,
      "outputs": [
        {
          "output_type": "stream",
          "name": "stdout",
          "text": [
            "Enter a word: if\n",
            "'if' is a Python keyword.\n"
          ]
        }
      ]
    },
    {
      "cell_type": "code",
      "source": [
        "# 5]  Create a list and tuple in Python, and demonstrate how attempting to change an element works differently for each.\n",
        "list = [10, 20, 30]\n",
        "tuple = (10, 20, 30)\n",
        "print( list)\n",
        "print( tuple)\n",
        "list[1] = 200\n",
        "print(\"\\n Updated List:\",list)\n",
        "try:\n",
        "    tuple[1] = 200\n",
        "    print(\"\\n Updated Tuple:\",tuple)\n",
        "except TypeError as e:\n",
        "    print(\"\\n Error:\",e)\n",
        ""
      ],
      "metadata": {
        "colab": {
          "base_uri": "https://localhost:8080/"
        },
        "id": "O8pNtGbDHkkM",
        "outputId": "27c49944-8d39-482a-e748-303a986f1520"
      },
      "execution_count": 27,
      "outputs": [
        {
          "output_type": "stream",
          "name": "stdout",
          "text": [
            "[10, 20, 30]\n",
            "(10, 20, 30)\n",
            "\n",
            " Updated List: [10, 200, 30]\n",
            "\n",
            " Error: 'tuple' object does not support item assignment\n"
          ]
        }
      ]
    },
    {
      "cell_type": "code",
      "source": [
        "# 6] Write a function to demonstrate the behavior of mutable and immutable arguments.\n",
        "def modify_objects(num, num_list):\n",
        "    print(\"\\nInside function before modification:\")\n",
        "    print(\"num =\", num)\n",
        "    print(\"num_list =\", num_list)\n",
        "    num += 10\n",
        "    num_list.append(99)\n",
        "    print(\"\\nInside function after modification:\")\n",
        "    print(\"num =\", num)\n",
        "    print(\"num_list =\", num_list)\n",
        "\n",
        "x = 5\n",
        "my_list = [1, 2, 3]\n",
        "\n",
        "print(\"Before function call:\")\n",
        "print(\"x =\", x)\n",
        "print(\"my_list =\", my_list)\n",
        "\n",
        "\n",
        "modify_objects(x, my_list)\n",
        "\n",
        "print(\"\\nAfter function call:\")\n",
        "print(\"x =\", x)\n",
        "print(\"my_list =\", my_list)"
      ],
      "metadata": {
        "colab": {
          "base_uri": "https://localhost:8080/"
        },
        "id": "3NXq2iZ-IVdg",
        "outputId": "4f10c500-e5fc-4ffe-ba21-b924e8ca4e6f"
      },
      "execution_count": 35,
      "outputs": [
        {
          "output_type": "stream",
          "name": "stdout",
          "text": [
            "Before function call:\n",
            "x = 5\n",
            "my_list = [1, 2, 3]\n",
            "\n",
            "Inside function before modification:\n",
            "num = 5\n",
            "num_list = [1, 2, 3]\n",
            "\n",
            "Inside function after modification:\n",
            "num = 15\n",
            "num_list = [1, 2, 3, 99]\n",
            "\n",
            "After function call:\n",
            "x = 5\n",
            "my_list = [1, 2, 3, 99]\n"
          ]
        }
      ]
    },
    {
      "cell_type": "code",
      "source": [
        "# 7]  Write a program that performs basic arithmetic operations on two user-input numbers.\n",
        "\n",
        "\n",
        "num1 = float(input(\"Enter the first number: \"))\n",
        "num2 = float(input(\"Enter the second number: \"))\n",
        "addition = num1 + num2\n",
        "subtraction = num1 - num2\n",
        "multiplication = num1 * num2\n",
        "\n",
        "if num2 != 0:\n",
        "    division = num1 / num2\n",
        "else:\n",
        "    division = \"Undefined (cannot divide by zero)\"\n",
        "\n",
        "print(\"\\n--- Results ---\")\n",
        "print(f\"{num1} + {num2} = {addition}\")\n",
        "print(f\"{num1} - {num2} = {subtraction}\")\n",
        "print(f\"{num1} * {num2} = {multiplication}\")\n",
        "print(f\"{num1} / {num2} = {division}\")\n",
        "\n"
      ],
      "metadata": {
        "colab": {
          "base_uri": "https://localhost:8080/"
        },
        "id": "Z3mSROODK-pc",
        "outputId": "b172463c-b151-4b3c-de2c-543e5710cd62"
      },
      "execution_count": 36,
      "outputs": [
        {
          "output_type": "stream",
          "name": "stdout",
          "text": [
            "Enter the first number: 20\n",
            "Enter the second number: 12\n",
            "\n",
            "--- Results ---\n",
            "20.0 + 12.0 = 32.0\n",
            "20.0 - 12.0 = 8.0\n",
            "20.0 * 12.0 = 240.0\n",
            "20.0 / 12.0 = 1.6666666666666667\n"
          ]
        }
      ]
    },
    {
      "cell_type": "code",
      "source": [
        "# 8] Write a program to demonstrate the use of logical operators.\n",
        "a = True\n",
        "b = False\n",
        "print(\"a and b =\", a and b)\n",
        "print(\"a or b =\", a or b)\n",
        "print(\"not a =\", not a)"
      ],
      "metadata": {
        "colab": {
          "base_uri": "https://localhost:8080/"
        },
        "id": "fcB_oH1UMX-0",
        "outputId": "cfcfefd7-deb7-4dbb-fcc8-c8ff90a204f4"
      },
      "execution_count": 37,
      "outputs": [
        {
          "output_type": "stream",
          "name": "stdout",
          "text": [
            "a and b = False\n",
            "a or b = True\n",
            "not a = False\n"
          ]
        }
      ]
    },
    {
      "cell_type": "code",
      "source": [
        "# 9]  Write a Python program to convert user input from string to integer, float, and boolean types.\n",
        "\n",
        "user_input = input(\"Enter a value: \")\n",
        "\n",
        "try:\n",
        "    int_value = int(user_input)\n",
        "except ValueError:\n",
        "    int_value = \"Cannot convert to integer\"\n",
        "\n",
        "try:\n",
        "    float_value = float(user_input)\n",
        "except ValueError:\n",
        "    float_value = \"Cannot convert to float\"\n",
        "\n",
        "boolean_value = bool(user_input)\n",
        "\n",
        "print(\"\\n--- Conversion Results ---\")\n",
        "print(\"Original (string):\", user_input)\n",
        "print(\"As integer:\", int_value)\n",
        "print(\"As float:\", float_value)\n",
        "print(\"As boolean:\", boolean_value)\n"
      ],
      "metadata": {
        "colab": {
          "base_uri": "https://localhost:8080/"
        },
        "id": "H1JkHiyhNu4J",
        "outputId": "354d041f-2d33-48c8-b710-165c3cd5a113"
      },
      "execution_count": 40,
      "outputs": [
        {
          "output_type": "stream",
          "name": "stdout",
          "text": [
            "Enter a value: 12.6\n",
            "\n",
            "--- Conversion Results ---\n",
            "Original (string): 12.6\n",
            "As integer: Cannot convert to integer\n",
            "As float: 12.6\n",
            "As boolean: True\n"
          ]
        }
      ]
    },
    {
      "cell_type": "code",
      "source": [
        "# 10] Write code to demonstrate type casting with list elements.\n",
        "\n",
        "str_list = [\"1\", \"2\", \"3\",\"12\",\"15\"]\n",
        "\n",
        "print(\"Original list (strings):\", str_list)\n",
        "\n",
        "int_list = [int(x) for x in str_list]\n",
        "print(\"As integers:\", int_list)\n",
        "\n",
        "float_list = [float(x) for x in str_list]\n",
        "print(\"As floats:\", float_list)\n",
        "\n",
        "bool_list = [bool(x) for x in str_list]\n",
        "print(\"As booleans:\", bool_list)\n"
      ],
      "metadata": {
        "colab": {
          "base_uri": "https://localhost:8080/"
        },
        "id": "f2pDnlsOPDTI",
        "outputId": "4f4b1086-3ccc-42ea-82ac-ed54071ed200"
      },
      "execution_count": 45,
      "outputs": [
        {
          "output_type": "stream",
          "name": "stdout",
          "text": [
            "Original list (strings): ['1', '2', '3', '12', '15']\n",
            "As integers: [1, 2, 3, 12, 15]\n",
            "As floats: [1.0, 2.0, 3.0, 12.0, 15.0]\n",
            "As booleans: [True, True, True, True, True]\n"
          ]
        }
      ]
    },
    {
      "cell_type": "code",
      "source": [
        "# 11] Write a program that checks if a number is positive, negative, or zero.\n",
        "\n",
        "num = float(input(\"Enter a number: \"))\n",
        "\n",
        "\n",
        "if num > 0:\n",
        "    print(\"The number is positive.\")\n",
        "elif num < 0:\n",
        "    print(\"The number is negative.\")\n",
        "else:\n",
        "    print(\"The number is zero.\")\n"
      ],
      "metadata": {
        "colab": {
          "base_uri": "https://localhost:8080/"
        },
        "id": "1GIdxK4MQR3v",
        "outputId": "6d17bce7-9b1b-4fc2-b3c2-cad840ecebd0"
      },
      "execution_count": 46,
      "outputs": [
        {
          "output_type": "stream",
          "name": "stdout",
          "text": [
            "Enter a number: 4141\n",
            "The number is positive.\n"
          ]
        }
      ]
    },
    {
      "cell_type": "code",
      "source": [
        "# 12]  Write a for loop to print numbers from 1 to 10.\n",
        "for num in range(1,11):\n",
        "  print(num)"
      ],
      "metadata": {
        "colab": {
          "base_uri": "https://localhost:8080/"
        },
        "id": "Mig74RITRCsb",
        "outputId": "4cbdaed0-8fe0-4998-d908-335432f8f811"
      },
      "execution_count": 55,
      "outputs": [
        {
          "output_type": "stream",
          "name": "stdout",
          "text": [
            "1\n",
            "2\n",
            "3\n",
            "4\n",
            "5\n",
            "6\n",
            "7\n",
            "8\n",
            "9\n",
            "10\n"
          ]
        }
      ]
    },
    {
      "cell_type": "code",
      "source": [
        "# 13] Write a Python program to find the sum of all even numbers between 1 and 50.\n",
        "\n",
        "total = 0\n",
        "\n",
        "for num in range(1, 51):\n",
        "    if num % 2 == 0:  # check if number is even\n",
        "        total += num\n",
        "\n",
        "print(\"Sum of even numbers between 1 and 50 is:\", total)\n"
      ],
      "metadata": {
        "colab": {
          "base_uri": "https://localhost:8080/"
        },
        "id": "mWdbt0jEScuu",
        "outputId": "4dd533d2-a68a-464b-8268-657cd0dee7e5"
      },
      "execution_count": 56,
      "outputs": [
        {
          "output_type": "stream",
          "name": "stdout",
          "text": [
            "Sum of even numbers between 1 and 50 is: 650\n"
          ]
        }
      ]
    },
    {
      "cell_type": "code",
      "source": [
        "# 14]  Write a program to reverse a string using a while loop.\n",
        "text = input(\"Enter a string: \")\n",
        "i = len(text) - 1\n",
        "\n",
        "while i >= 0:\n",
        "    print(text[i], end=\"\")\n",
        "    i -= 1\n"
      ],
      "metadata": {
        "colab": {
          "base_uri": "https://localhost:8080/"
        },
        "id": "t8EnBgJBS9Os",
        "outputId": "bfe43942-6ff8-4ba5-ab12-6bf905cbdd84"
      },
      "execution_count": 57,
      "outputs": [
        {
          "output_type": "stream",
          "name": "stdout",
          "text": [
            "Enter a string: ayush\n",
            "hsuya"
          ]
        }
      ]
    },
    {
      "cell_type": "code",
      "source": [
        "# 15] Write a Python program to calculate the factorial of a number provided by the user using a while loop.\n",
        "\n",
        "num = int(input(\"Enter a number: \"))\n",
        "\n",
        "factorial = 1\n",
        "i = 1\n",
        "\n",
        "while i <= num:\n",
        "    factorial *= i\n",
        "    i += 1\n",
        "\n",
        "print(f\"Factorial of {num} is {factorial}\")\n"
      ],
      "metadata": {
        "colab": {
          "base_uri": "https://localhost:8080/"
        },
        "id": "WjHf5ut4TU7a",
        "outputId": "9c5e7101-c155-467c-fe9c-dd4535299f40"
      },
      "execution_count": 58,
      "outputs": [
        {
          "output_type": "stream",
          "name": "stdout",
          "text": [
            "Enter a number: 5\n",
            "Factorial of 5 is 120\n"
          ]
        }
      ]
    },
    {
      "cell_type": "code",
      "source": [],
      "metadata": {
        "id": "Zf_yHcmJToQg"
      },
      "execution_count": null,
      "outputs": []
    }
  ]
}